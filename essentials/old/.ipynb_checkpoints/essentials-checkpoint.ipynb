{
 "cells": [
  {
   "cell_type": "markdown",
   "metadata": {},
   "source": [
    "utilisation de jupyter\n",
    "principaux types(+none), boucles, conditions\n",
    "copies / references\n",
    "\n",
    "structures: listes dico, tuple etc\n",
    "construction acces tri\n",
    "\n",
    "objets + classes + méthodes(rapide)\n",
    "\n",
    "les fonctions, un peu de lambda\n",
    "\n",
    "Les erreurs et exceptions, lire une stacktrace\n",
    "\n",
    "open et write de fichier, json\n",
    "\n",
    "conventions basiques (snake_case, camelCase)\n",
    "\n",
    "imports, modules\n"
   ]
  },
  {
   "cell_type": "code",
   "execution_count": null,
   "metadata": {
    "collapsed": true
   },
   "outputs": [],
   "source": []
  }
 ],
 "metadata": {
  "kernelspec": {
   "display_name": "Python 3",
   "language": "python",
   "name": "python3"
  },
  "language_info": {
   "codemirror_mode": {
    "name": "ipython",
    "version": 3
   },
   "file_extension": ".py",
   "mimetype": "text/x-python",
   "name": "python",
   "nbconvert_exporter": "python",
   "pygments_lexer": "ipython3",
   "version": "3.6.1"
  }
 },
 "nbformat": 4,
 "nbformat_minor": 2
}
