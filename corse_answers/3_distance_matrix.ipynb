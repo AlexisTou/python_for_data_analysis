{
 "cells": [
  {
   "cell_type": "code",
   "execution_count": 56,
   "metadata": {
    "collapsed": true
   },
   "outputs": [],
   "source": [
    "import geopandas as gpd\n",
    "import pandas as pd\n",
    "import numpy as np\n",
    "\n",
    "from tqdm import tqdm\n",
    "\n",
    "training_folder = r'../'\n",
    "gis_folder = training_folder + r'gis/corse/'\n",
    "data_folder = training_folder + r'data/corse/'"
   ]
  },
  {
   "cell_type": "markdown",
   "metadata": {},
   "source": [
    "# chargement des données"
   ]
  },
  {
   "cell_type": "code",
   "execution_count": 57,
   "metadata": {
    "collapsed": true
   },
   "outputs": [],
   "source": [
    "nodes = gpd.read_file(gis_folder + r'osmdrive/nodes/nodes.shp')\n",
    "stops = gpd.read_file(gis_folder + r'stops_corse.shp')\n",
    "communes = gpd.read_file(gis_folder + r'communes_corse.shp')"
   ]
  },
  {
   "cell_type": "code",
   "execution_count": 58,
   "metadata": {
    "collapsed": true
   },
   "outputs": [],
   "source": [
    "nodes.crs = {'init' :'epsg:4326'}\n",
    "stops.crs = {'init' :'epsg:4326'}\n",
    "communes.crs = {'init' :'epsg:4326'}\n",
    "\n",
    "nodes = nodes.to_crs({'init': 'epsg:2154'}) \n",
    "stops = stops.to_crs({'init': 'epsg:2154'}) \n",
    "communes = communes.to_crs({'init': 'epsg:2154'}) "
   ]
  },
  {
   "cell_type": "code",
   "execution_count": 59,
   "metadata": {},
   "outputs": [
    {
     "data": {
      "text/html": [
       "<div>\n",
       "<style scoped>\n",
       "    .dataframe tbody tr th:only-of-type {\n",
       "        vertical-align: middle;\n",
       "    }\n",
       "\n",
       "    .dataframe tbody tr th {\n",
       "        vertical-align: top;\n",
       "    }\n",
       "\n",
       "    .dataframe thead th {\n",
       "        text-align: right;\n",
       "    }\n",
       "</style>\n",
       "<table border=\"1\" class=\"dataframe\">\n",
       "  <thead>\n",
       "    <tr style=\"text-align: right;\">\n",
       "      <th></th>\n",
       "      <th>highway</th>\n",
       "      <th>osmid</th>\n",
       "      <th>geometry</th>\n",
       "    </tr>\n",
       "  </thead>\n",
       "  <tbody>\n",
       "    <tr>\n",
       "      <th>0</th>\n",
       "      <td>None</td>\n",
       "      <td>14468319</td>\n",
       "      <td>POINT (1226992.573164942 6070912.43982139)</td>\n",
       "    </tr>\n",
       "  </tbody>\n",
       "</table>\n",
       "</div>"
      ],
      "text/plain": [
       "  highway     osmid                                    geometry\n",
       "0    None  14468319  POINT (1226992.573164942 6070912.43982139)"
      ]
     },
     "execution_count": 59,
     "metadata": {},
     "output_type": "execute_result"
    }
   ],
   "source": [
    "nodes.head(1)"
   ]
  },
  {
   "cell_type": "code",
   "execution_count": 60,
   "metadata": {
    "scrolled": true
   },
   "outputs": [
    {
     "data": {
      "text/html": [
       "<div>\n",
       "<style scoped>\n",
       "    .dataframe tbody tr th:only-of-type {\n",
       "        vertical-align: middle;\n",
       "    }\n",
       "\n",
       "    .dataframe tbody tr th {\n",
       "        vertical-align: top;\n",
       "    }\n",
       "\n",
       "    .dataframe thead th {\n",
       "        text-align: right;\n",
       "    }\n",
       "</style>\n",
       "<table border=\"1\" class=\"dataframe\">\n",
       "  <thead>\n",
       "    <tr style=\"text-align: right;\">\n",
       "      <th></th>\n",
       "      <th>name</th>\n",
       "      <th>stop</th>\n",
       "      <th>geometry</th>\n",
       "    </tr>\n",
       "  </thead>\n",
       "  <tbody>\n",
       "    <tr>\n",
       "      <th>0</th>\n",
       "      <td>Gare de Campo dell'Oro (Ajaccio), corse</td>\n",
       "      <td>0</td>\n",
       "      <td>POINT (1179810.002044853 6109555.658381497)</td>\n",
       "    </tr>\n",
       "  </tbody>\n",
       "</table>\n",
       "</div>"
      ],
      "text/plain": [
       "                                      name  stop  \\\n",
       "0  Gare de Campo dell'Oro (Ajaccio), corse     0   \n",
       "\n",
       "                                      geometry  \n",
       "0  POINT (1179810.002044853 6109555.658381497)  "
      ]
     },
     "execution_count": 60,
     "metadata": {},
     "output_type": "execute_result"
    }
   ],
   "source": [
    "stops.head(1)"
   ]
  },
  {
   "cell_type": "code",
   "execution_count": 61,
   "metadata": {},
   "outputs": [
    {
     "data": {
      "text/html": [
       "<div>\n",
       "<style scoped>\n",
       "    .dataframe tbody tr th:only-of-type {\n",
       "        vertical-align: middle;\n",
       "    }\n",
       "\n",
       "    .dataframe tbody tr th {\n",
       "        vertical-align: top;\n",
       "    }\n",
       "\n",
       "    .dataframe thead th {\n",
       "        text-align: right;\n",
       "    }\n",
       "</style>\n",
       "<table border=\"1\" class=\"dataframe\">\n",
       "  <thead>\n",
       "    <tr style=\"text-align: right;\">\n",
       "      <th></th>\n",
       "      <th>insee</th>\n",
       "      <th>geometry</th>\n",
       "    </tr>\n",
       "  </thead>\n",
       "  <tbody>\n",
       "    <tr>\n",
       "      <th>0</th>\n",
       "      <td>2B047</td>\n",
       "      <td>POLYGON ((1194340.897468092 6154934.151709693,...</td>\n",
       "    </tr>\n",
       "  </tbody>\n",
       "</table>\n",
       "</div>"
      ],
      "text/plain": [
       "   insee                                           geometry\n",
       "0  2B047  POLYGON ((1194340.897468092 6154934.151709693,..."
      ]
     },
     "execution_count": 61,
     "metadata": {},
     "output_type": "execute_result"
    }
   ],
   "source": [
    "communes.head(1)"
   ]
  },
  {
   "cell_type": "markdown",
   "metadata": {},
   "source": [
    "# Matrices des distances \n",
    "## stop -> node et commune -> node"
   ]
  },
  {
   "cell_type": "code",
   "execution_count": 62,
   "metadata": {
    "collapsed": true
   },
   "outputs": [],
   "source": [
    "nodetuples = nodes[['osmid', 'geometry']].values.tolist()\n",
    "stoptuples = stops[['stop', 'geometry']].values.tolist()\n",
    "communetuples = communes[['insee', 'geometry']].values.tolist()"
   ]
  },
  {
   "cell_type": "markdown",
   "metadata": {},
   "source": [
    "## stop node"
   ]
  },
  {
   "cell_type": "code",
   "execution_count": 63,
   "metadata": {},
   "outputs": [
    {
     "name": "stderr",
     "output_type": "stream",
     "text": [
      "100%|██████████████████████████████████████████████████████████████████████████████████| 44/44 [00:05<00:00,  8.73it/s]\n"
     ]
    }
   ],
   "source": [
    "stop_node_distances = []\n",
    "\n",
    "for stop_id, stop_geometry in tqdm(stoptuples):\n",
    "    for node_id, node_geometry in nodetuples:\n",
    "        distance = node_geometry.distance(stop_geometry)\n",
    "        stop_node_distances.append((node_id, stop_id, distance))\n",
    "        \n",
    "# on transforme les listes de tuples en DataFrames\n",
    "stop_node_distance_dataframe = pd.DataFrame(\n",
    "    stop_node_distances, \n",
    "    columns = ['stop_node', 'stop', 'distance']\n",
    ")\n",
    "\n",
    "stop_node_distance_dataframe.sort_values(by='distance', inplace=True)"
   ]
  },
  {
   "cell_type": "code",
   "execution_count": 64,
   "metadata": {},
   "outputs": [
    {
     "data": {
      "text/html": [
       "<div>\n",
       "<style scoped>\n",
       "    .dataframe tbody tr th:only-of-type {\n",
       "        vertical-align: middle;\n",
       "    }\n",
       "\n",
       "    .dataframe tbody tr th {\n",
       "        vertical-align: top;\n",
       "    }\n",
       "\n",
       "    .dataframe thead th {\n",
       "        text-align: right;\n",
       "    }\n",
       "</style>\n",
       "<table border=\"1\" class=\"dataframe\">\n",
       "  <thead>\n",
       "    <tr style=\"text-align: right;\">\n",
       "      <th></th>\n",
       "      <th>stop_node</th>\n",
       "      <th>stop</th>\n",
       "      <th>distance</th>\n",
       "    </tr>\n",
       "  </thead>\n",
       "  <tbody>\n",
       "    <tr>\n",
       "      <th>504391</th>\n",
       "      <td>1039032311</td>\n",
       "      <td>35</td>\n",
       "      <td>5.995474</td>\n",
       "    </tr>\n",
       "    <tr>\n",
       "      <th>22723</th>\n",
       "      <td>276984551</td>\n",
       "      <td>1</td>\n",
       "      <td>14.605910</td>\n",
       "    </tr>\n",
       "    <tr>\n",
       "      <th>613994</th>\n",
       "      <td>2223467332</td>\n",
       "      <td>43</td>\n",
       "      <td>16.357759</td>\n",
       "    </tr>\n",
       "    <tr>\n",
       "      <th>506676</th>\n",
       "      <td>6484401341</td>\n",
       "      <td>35</td>\n",
       "      <td>23.935246</td>\n",
       "    </tr>\n",
       "    <tr>\n",
       "      <th>598853</th>\n",
       "      <td>1117866543</td>\n",
       "      <td>41</td>\n",
       "      <td>25.052728</td>\n",
       "    </tr>\n",
       "  </tbody>\n",
       "</table>\n",
       "</div>"
      ],
      "text/plain": [
       "         stop_node  stop   distance\n",
       "504391  1039032311    35   5.995474\n",
       "22723    276984551     1  14.605910\n",
       "613994  2223467332    43  16.357759\n",
       "506676  6484401341    35  23.935246\n",
       "598853  1117866543    41  25.052728"
      ]
     },
     "execution_count": 64,
     "metadata": {},
     "output_type": "execute_result"
    }
   ],
   "source": [
    "stop_node_distance_dataframe.head()"
   ]
  },
  {
   "cell_type": "markdown",
   "metadata": {},
   "source": [
    "## commune node\n",
    "On fait la même chose avec les communes"
   ]
  },
  {
   "cell_type": "code",
   "execution_count": 65,
   "metadata": {
    "scrolled": true
   },
   "outputs": [
    {
     "name": "stderr",
     "output_type": "stream",
     "text": [
      "100%|████████████████████████████████████████████████████████████████████████████████| 360/360 [01:06<00:00,  4.21it/s]\n"
     ]
    },
    {
     "data": {
      "text/html": [
       "<div>\n",
       "<style scoped>\n",
       "    .dataframe tbody tr th:only-of-type {\n",
       "        vertical-align: middle;\n",
       "    }\n",
       "\n",
       "    .dataframe tbody tr th {\n",
       "        vertical-align: top;\n",
       "    }\n",
       "\n",
       "    .dataframe thead th {\n",
       "        text-align: right;\n",
       "    }\n",
       "</style>\n",
       "<table border=\"1\" class=\"dataframe\">\n",
       "  <thead>\n",
       "    <tr style=\"text-align: right;\">\n",
       "      <th></th>\n",
       "      <th>commune_node</th>\n",
       "      <th>commune</th>\n",
       "      <th>distance</th>\n",
       "    </tr>\n",
       "  </thead>\n",
       "  <tbody>\n",
       "    <tr>\n",
       "      <th>6763946</th>\n",
       "      <td>1779713597</td>\n",
       "      <td>2A163</td>\n",
       "      <td>0.0</td>\n",
       "    </tr>\n",
       "    <tr>\n",
       "      <th>1530168</th>\n",
       "      <td>300445272</td>\n",
       "      <td>2A247</td>\n",
       "      <td>0.0</td>\n",
       "    </tr>\n",
       "    <tr>\n",
       "      <th>1530169</th>\n",
       "      <td>300445275</td>\n",
       "      <td>2A247</td>\n",
       "      <td>0.0</td>\n",
       "    </tr>\n",
       "    <tr>\n",
       "      <th>1530170</th>\n",
       "      <td>300445298</td>\n",
       "      <td>2A247</td>\n",
       "      <td>0.0</td>\n",
       "    </tr>\n",
       "    <tr>\n",
       "      <th>1530171</th>\n",
       "      <td>300445313</td>\n",
       "      <td>2A247</td>\n",
       "      <td>0.0</td>\n",
       "    </tr>\n",
       "  </tbody>\n",
       "</table>\n",
       "</div>"
      ],
      "text/plain": [
       "        commune_node commune  distance\n",
       "6763946   1779713597   2A163       0.0\n",
       "1530168    300445272   2A247       0.0\n",
       "1530169    300445275   2A247       0.0\n",
       "1530170    300445298   2A247       0.0\n",
       "1530171    300445313   2A247       0.0"
      ]
     },
     "execution_count": 65,
     "metadata": {},
     "output_type": "execute_result"
    }
   ],
   "source": [
    "commune_node_distances = []\n",
    "        \n",
    "for commune_id, commune_geometry in tqdm(communetuples):\n",
    "    for node_id, node_geometry in nodetuples:\n",
    "        distance = node_geometry.distance(commune_geometry)\n",
    "        commune_node_distances.append((node_id, commune_id, distance))\n",
    "        \n",
    "commune_node_distance_dataframe = pd.DataFrame(\n",
    "    commune_node_distances, \n",
    "    columns = ['commune_node', 'commune', 'distance']\n",
    ")\n",
    "\n",
    "commune_node_distance_dataframe.sort_values(by='distance', inplace=True)\n",
    "\n",
    "commune_node_distance_dataframe.head() # quand le nœud est dans la commune, la distance est nulle"
   ]
  },
  {
   "cell_type": "code",
   "execution_count": 66,
   "metadata": {},
   "outputs": [
    {
     "data": {
      "text/plain": [
       "906880"
      ]
     },
     "execution_count": 66,
     "metadata": {},
     "output_type": "execute_result"
    }
   ],
   "source": [
    "# la table est assez large, on va la stocker au format hdf, plus rapide et leger que CSV\n",
    "len(commune_node_distance_dataframe)"
   ]
  },
  {
   "cell_type": "code",
   "execution_count": 69,
   "metadata": {
    "collapsed": true
   },
   "outputs": [],
   "source": [
    "def top(df, n=5, column='data'):\n",
    "    return df.sort_values(by=column)[:n]\n",
    "commune_node_distance_dataframe = commune_node_distance_dataframe.groupby('commune').apply(top, n=20, column='distance')"
   ]
  },
  {
   "cell_type": "code",
   "execution_count": 70,
   "metadata": {
    "collapsed": true
   },
   "outputs": [],
   "source": [
    "commune_node_distance_dataframe.to_hdf(data_folder + 'distance_to_node.hdf', 'communes', index=False, mode='w')\n",
    "stop_node_distance_dataframe.to_hdf(data_folder + 'distance_to_node.hdf', 'stops', index=False, mode='a')"
   ]
  }
 ],
 "metadata": {
  "kernelspec": {
   "display_name": "Python 3",
   "language": "python",
   "name": "python3"
  },
  "language_info": {
   "codemirror_mode": {
    "name": "ipython",
    "version": 3
   },
   "file_extension": ".py",
   "mimetype": "text/x-python",
   "name": "python",
   "nbconvert_exporter": "python",
   "pygments_lexer": "ipython3",
   "version": "3.6.8"
  }
 },
 "nbformat": 4,
 "nbformat_minor": 2
}
