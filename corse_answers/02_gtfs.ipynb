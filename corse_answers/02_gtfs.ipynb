{
 "cells": [
  {
   "cell_type": "code",
   "execution_count": 52,
   "metadata": {
    "collapsed": true
   },
   "outputs": [],
   "source": [
    "import geopandas as gpd\n",
    "import pandas as pd\n",
    "import numpy as np\n",
    "\n",
    "import requests\n",
    "import json"
   ]
  },
  {
   "cell_type": "code",
   "execution_count": 53,
   "metadata": {
    "collapsed": true
   },
   "outputs": [],
   "source": [
    "%matplotlib notebook\n",
    "training_folder = r'../'\n",
    "gis_folder = training_folder + r'gis/corse/'\n",
    "data_folder = training_folder + r'data/corse/'"
   ]
  },
  {
   "cell_type": "markdown",
   "metadata": {},
   "source": [
    "# Lire la table des stops"
   ]
  },
  {
   "cell_type": "code",
   "execution_count": 54,
   "metadata": {},
   "outputs": [],
   "source": [
    "stops = pd.read_csv(data_folder + 'export-ter-gtfs-last/stops.txt')"
   ]
  },
  {
   "cell_type": "code",
   "execution_count": 55,
   "metadata": {},
   "outputs": [],
   "source": [
    "communes = gpd.read_file(gis_folder + r'communes_corse.shp')\n",
    "convex_corse = communes.dissolve([0] * len(communes)).convex_hull[0]"
   ]
  },
  {
   "cell_type": "code",
   "execution_count": 56,
   "metadata": {
    "collapsed": true
   },
   "outputs": [],
   "source": [
    "from shapely import geometry\n",
    "def gtfs_row_to_point(row):\n",
    "    return geometry.Point(row['stop_lon'],row['stop_lat'])\n",
    "\n",
    "stops['geometry'] = stops.apply(gtfs_row_to_point, axis=1)"
   ]
  },
  {
   "cell_type": "code",
   "execution_count": 57,
   "metadata": {},
   "outputs": [
    {
     "data": {
      "image/svg+xml": [
       "<svg xmlns=\"http://www.w3.org/2000/svg\" xmlns:xlink=\"http://www.w3.org/1999/xlink\" width=\"100.0\" height=\"100.0\" viewBox=\"8.46693445576744 41.26540847146444 1.1609010667132829 1.8301285718676041\" preserveAspectRatio=\"xMinYMin meet\"><g transform=\"matrix(1,0,0,-1,0,84.36094551479648)\"><path fill-rule=\"evenodd\" fill=\"#66cc99\" stroke=\"#555555\" stroke-width=\"0.036602571437352086\" opacity=\"0.6\" d=\"M 9.262094469284984,41.33319101116324 L 9.248442322754578,41.33600656711126 L 8.908084585488592,41.456000269790536 L 8.907401596378078,41.45638530334388 L 8.787850205106315,41.5556769586281 L 8.658559908344827,41.74099791856617 L 8.585672582484994,41.87410440410921 L 8.538058728323165,42.23687760519854 L 8.53471699546624,42.37221786530556 L 8.709210696987679,42.57672196511447 L 9.346738047268087,43.00059596936695 L 9.357945877910405,43.007188473993885 L 9.406515449703008,43.02775450363325 L 9.471008019232745,42.98465438843622 L 9.471867976454233,42.98345619466961 L 9.533103075100692,42.546294211141856 L 9.560052982781922,42.282120717031766 L 9.558943383742976,42.196632170502944 L 9.55659455876959,42.14290849594631 L 9.554831165866863,42.12376907788862 L 9.38374189960918,41.50892197484087 L 9.306241095944696,41.368731389681784 L 9.262094469284984,41.33319101116324 z\" /></g></svg>"
      ],
      "text/plain": [
       "<shapely.geometry.polygon.Polygon at 0x1f6f6799198>"
      ]
     },
     "execution_count": 57,
     "metadata": {},
     "output_type": "execute_result"
    }
   ],
   "source": [
    "convex_corse"
   ]
  },
  {
   "cell_type": "code",
   "execution_count": 58,
   "metadata": {
    "collapsed": true
   },
   "outputs": [],
   "source": [
    "stops['corse'] = stops['geometry'].apply(lambda g: convex_corse.contains(g))\n",
    "stops = gpd.geodataframe.GeoDataFrame(stops)"
   ]
  },
  {
   "cell_type": "code",
   "execution_count": 59,
   "metadata": {},
   "outputs": [],
   "source": [
    "stops[['stop_name', 'geometry']].to_file(gis_folder +'\\gtfs_corse.shp')"
   ]
  },
  {
   "cell_type": "markdown",
   "metadata": {},
   "source": [
    "# tri des stops qui sont en corse"
   ]
  },
  {
   "cell_type": "code",
   "execution_count": 60,
   "metadata": {},
   "outputs": [],
   "source": [
    "stops_corse = stops.loc[stops.intersects(convex_corse)]"
   ]
  },
  {
   "cell_type": "code",
   "execution_count": 61,
   "metadata": {},
   "outputs": [
    {
     "data": {
      "text/plain": [
       "0"
      ]
     },
     "execution_count": 61,
     "metadata": {},
     "output_type": "execute_result"
    }
   ],
   "source": [
    "len(stops_corse)"
   ]
  },
  {
   "cell_type": "code",
   "execution_count": 62,
   "metadata": {
    "collapsed": true
   },
   "outputs": [],
   "source": [
    "%matplotlib notebook"
   ]
  },
  {
   "cell_type": "code",
   "execution_count": 63,
   "metadata": {},
   "outputs": [],
   "source": [
    "# stops.plot()"
   ]
  }
 ],
 "metadata": {
  "kernelspec": {
   "display_name": "Python 3",
   "language": "python",
   "name": "python3"
  },
  "language_info": {
   "codemirror_mode": {
    "name": "ipython",
    "version": 3
   },
   "file_extension": ".py",
   "mimetype": "text/x-python",
   "name": "python",
   "nbconvert_exporter": "python",
   "pygments_lexer": "ipython3",
   "version": "3.6.1"
  }
 },
 "nbformat": 4,
 "nbformat_minor": 2
}
