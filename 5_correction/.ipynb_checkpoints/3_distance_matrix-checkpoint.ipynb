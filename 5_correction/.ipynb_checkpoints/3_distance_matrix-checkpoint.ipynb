{
 "cells": [
  {
   "cell_type": "code",
   "execution_count": 2,
   "metadata": {
    "collapsed": true
   },
   "outputs": [],
   "source": [
    "import geopandas as gpd\n",
    "import pandas as pd\n",
    "import numpy as np\n",
    "\n",
    "from tqdm import tqdm\n",
    "\n",
    "training_folder = r'../'\n",
    "gis_folder = training_folder + r'gis/corse/'\n",
    "data_folder = training_folder + r'data/corse/'"
   ]
  },
  {
   "cell_type": "markdown",
   "metadata": {},
   "source": [
    "# chargement des données"
   ]
  },
  {
   "cell_type": "code",
   "execution_count": 3,
   "metadata": {
    "collapsed": true
   },
   "outputs": [],
   "source": [
    "nodes = gpd.read_file(gis_folder + r'osmdrive/nodes/nodes.shp')\n",
    "stops = gpd.read_file(gis_folder + r'stops_corse.shp')\n",
    "communes = gpd.read_file(gis_folder + r'communes_corse.shp')"
   ]
  },
  {
   "cell_type": "code",
   "execution_count": 8,
   "metadata": {},
   "outputs": [],
   "source": [
    "nodes.crs = {'init' :'epsg:4326'}\n",
    "stops.crs = {'init' :'epsg:4326'}\n",
    "communes.crs = {'init' :'epsg:4326'}\n",
    "\n",
    "nodes = nodes.to_crs({'init': 'epsg:2154'}) \n",
    "stops = stops.to_crs({'init': 'epsg:2154'}) \n",
    "communes = communes.to_crs({'init': 'epsg:2154'}) "
   ]
  },
  {
   "cell_type": "code",
   "execution_count": 9,
   "metadata": {},
   "outputs": [
    {
     "data": {
      "text/html": [
       "<div>\n",
       "<style scoped>\n",
       "    .dataframe tbody tr th:only-of-type {\n",
       "        vertical-align: middle;\n",
       "    }\n",
       "\n",
       "    .dataframe tbody tr th {\n",
       "        vertical-align: top;\n",
       "    }\n",
       "\n",
       "    .dataframe thead th {\n",
       "        text-align: right;\n",
       "    }\n",
       "</style>\n",
       "<table border=\"1\" class=\"dataframe\">\n",
       "  <thead>\n",
       "    <tr style=\"text-align: right;\">\n",
       "      <th></th>\n",
       "      <th>highway</th>\n",
       "      <th>osmid</th>\n",
       "      <th>geometry</th>\n",
       "    </tr>\n",
       "  </thead>\n",
       "  <tbody>\n",
       "    <tr>\n",
       "      <th>0</th>\n",
       "      <td>None</td>\n",
       "      <td>14468319</td>\n",
       "      <td>POINT (1226992.573164942 6070912.43982139)</td>\n",
       "    </tr>\n",
       "  </tbody>\n",
       "</table>\n",
       "</div>"
      ],
      "text/plain": [
       "  highway     osmid                                    geometry\n",
       "0    None  14468319  POINT (1226992.573164942 6070912.43982139)"
      ]
     },
     "execution_count": 9,
     "metadata": {},
     "output_type": "execute_result"
    }
   ],
   "source": [
    "nodes.head(1)"
   ]
  },
  {
   "cell_type": "code",
   "execution_count": 10,
   "metadata": {
    "scrolled": true
   },
   "outputs": [
    {
     "data": {
      "text/html": [
       "<div>\n",
       "<style scoped>\n",
       "    .dataframe tbody tr th:only-of-type {\n",
       "        vertical-align: middle;\n",
       "    }\n",
       "\n",
       "    .dataframe tbody tr th {\n",
       "        vertical-align: top;\n",
       "    }\n",
       "\n",
       "    .dataframe thead th {\n",
       "        text-align: right;\n",
       "    }\n",
       "</style>\n",
       "<table border=\"1\" class=\"dataframe\">\n",
       "  <thead>\n",
       "    <tr style=\"text-align: right;\">\n",
       "      <th></th>\n",
       "      <th>name</th>\n",
       "      <th>stop</th>\n",
       "      <th>geometry</th>\n",
       "    </tr>\n",
       "  </thead>\n",
       "  <tbody>\n",
       "    <tr>\n",
       "      <th>0</th>\n",
       "      <td>Gare de Campo dell'Oro (Ajaccio), corse</td>\n",
       "      <td>0</td>\n",
       "      <td>POINT (1179810.002044853 6109555.658381497)</td>\n",
       "    </tr>\n",
       "  </tbody>\n",
       "</table>\n",
       "</div>"
      ],
      "text/plain": [
       "                                      name  stop  \\\n",
       "0  Gare de Campo dell'Oro (Ajaccio), corse     0   \n",
       "\n",
       "                                      geometry  \n",
       "0  POINT (1179810.002044853 6109555.658381497)  "
      ]
     },
     "execution_count": 10,
     "metadata": {},
     "output_type": "execute_result"
    }
   ],
   "source": [
    "stops.head(1)"
   ]
  },
  {
   "cell_type": "code",
   "execution_count": 11,
   "metadata": {},
   "outputs": [
    {
     "data": {
      "text/html": [
       "<div>\n",
       "<style scoped>\n",
       "    .dataframe tbody tr th:only-of-type {\n",
       "        vertical-align: middle;\n",
       "    }\n",
       "\n",
       "    .dataframe tbody tr th {\n",
       "        vertical-align: top;\n",
       "    }\n",
       "\n",
       "    .dataframe thead th {\n",
       "        text-align: right;\n",
       "    }\n",
       "</style>\n",
       "<table border=\"1\" class=\"dataframe\">\n",
       "  <thead>\n",
       "    <tr style=\"text-align: right;\">\n",
       "      <th></th>\n",
       "      <th>insee</th>\n",
       "      <th>geometry</th>\n",
       "    </tr>\n",
       "  </thead>\n",
       "  <tbody>\n",
       "    <tr>\n",
       "      <th>0</th>\n",
       "      <td>2B047</td>\n",
       "      <td>POLYGON ((1194340.897468092 6154934.151709693,...</td>\n",
       "    </tr>\n",
       "  </tbody>\n",
       "</table>\n",
       "</div>"
      ],
      "text/plain": [
       "   insee                                           geometry\n",
       "0  2B047  POLYGON ((1194340.897468092 6154934.151709693,..."
      ]
     },
     "execution_count": 11,
     "metadata": {},
     "output_type": "execute_result"
    }
   ],
   "source": [
    "communes.head(1)"
   ]
  },
  {
   "cell_type": "markdown",
   "metadata": {},
   "source": [
    "# Matrices des distances \n",
    "## stop -> node et commune -> node"
   ]
  },
  {
   "cell_type": "code",
   "execution_count": 12,
   "metadata": {
    "collapsed": true
   },
   "outputs": [],
   "source": [
    "nodetuples = nodes[['osmid', 'geometry']].values.tolist()\n",
    "stoptuples = stops[['stop', 'geometry']].values.tolist()\n",
    "communetuples = communes[['insee', 'geometry']].values.tolist()"
   ]
  },
  {
   "cell_type": "markdown",
   "metadata": {},
   "source": [
    "## stop node"
   ]
  },
  {
   "cell_type": "code",
   "execution_count": 13,
   "metadata": {},
   "outputs": [
    {
     "name": "stderr",
     "output_type": "stream",
     "text": [
      "100%|██████████████████████████████████████████████████████████████████████████████████| 44/44 [00:05<00:00,  8.94it/s]\n"
     ]
    }
   ],
   "source": [
    "stop_node_distances = []\n",
    "\n",
    "for stop_id, stop_geometry in tqdm(stoptuples):\n",
    "    for node_id, node_geometry in nodetuples:\n",
    "        distance = node_geometry.distance(stop_geometry)\n",
    "        stop_node_distances.append((node_id, stop_id, distance))\n",
    "        \n",
    "# on transforme les listes de tuples en DataFrames\n",
    "stop_node_distance_dataframe = pd.DataFrame(\n",
    "    stop_node_distances, \n",
    "    columns = ['stop_node', 'stop', 'distance']\n",
    ")\n",
    "\n",
    "stop_node_distance_dataframe.sort_values(by='distance', inplace=True)"
   ]
  },
  {
   "cell_type": "code",
   "execution_count": 14,
   "metadata": {},
   "outputs": [
    {
     "data": {
      "text/html": [
       "<div>\n",
       "<style scoped>\n",
       "    .dataframe tbody tr th:only-of-type {\n",
       "        vertical-align: middle;\n",
       "    }\n",
       "\n",
       "    .dataframe tbody tr th {\n",
       "        vertical-align: top;\n",
       "    }\n",
       "\n",
       "    .dataframe thead th {\n",
       "        text-align: right;\n",
       "    }\n",
       "</style>\n",
       "<table border=\"1\" class=\"dataframe\">\n",
       "  <thead>\n",
       "    <tr style=\"text-align: right;\">\n",
       "      <th></th>\n",
       "      <th>stop_node</th>\n",
       "      <th>stop</th>\n",
       "      <th>distance</th>\n",
       "    </tr>\n",
       "  </thead>\n",
       "  <tbody>\n",
       "    <tr>\n",
       "      <th>504391</th>\n",
       "      <td>1039032311</td>\n",
       "      <td>35</td>\n",
       "      <td>5.995474</td>\n",
       "    </tr>\n",
       "    <tr>\n",
       "      <th>22723</th>\n",
       "      <td>276984551</td>\n",
       "      <td>1</td>\n",
       "      <td>14.605910</td>\n",
       "    </tr>\n",
       "    <tr>\n",
       "      <th>613994</th>\n",
       "      <td>2223467332</td>\n",
       "      <td>43</td>\n",
       "      <td>16.357759</td>\n",
       "    </tr>\n",
       "    <tr>\n",
       "      <th>506676</th>\n",
       "      <td>6484401341</td>\n",
       "      <td>35</td>\n",
       "      <td>23.935246</td>\n",
       "    </tr>\n",
       "    <tr>\n",
       "      <th>598853</th>\n",
       "      <td>1117866543</td>\n",
       "      <td>41</td>\n",
       "      <td>25.052728</td>\n",
       "    </tr>\n",
       "  </tbody>\n",
       "</table>\n",
       "</div>"
      ],
      "text/plain": [
       "         stop_node  stop   distance\n",
       "504391  1039032311    35   5.995474\n",
       "22723    276984551     1  14.605910\n",
       "613994  2223467332    43  16.357759\n",
       "506676  6484401341    35  23.935246\n",
       "598853  1117866543    41  25.052728"
      ]
     },
     "execution_count": 14,
     "metadata": {},
     "output_type": "execute_result"
    }
   ],
   "source": [
    "stop_node_distance_dataframe.head()"
   ]
  },
  {
   "cell_type": "markdown",
   "metadata": {},
   "source": [
    "## commune node\n",
    "On fait la même chose avec les communes"
   ]
  },
  {
   "cell_type": "code",
   "execution_count": 20,
   "metadata": {
    "scrolled": true
   },
   "outputs": [
    {
     "name": "stderr",
     "output_type": "stream",
     "text": [
      "100%|████████████████████████████████████████████████████████████████████████████████| 360/360 [01:03<00:00,  4.40it/s]\n"
     ]
    },
    {
     "data": {
      "text/html": [
       "<div>\n",
       "<style scoped>\n",
       "    .dataframe tbody tr th:only-of-type {\n",
       "        vertical-align: middle;\n",
       "    }\n",
       "\n",
       "    .dataframe tbody tr th {\n",
       "        vertical-align: top;\n",
       "    }\n",
       "\n",
       "    .dataframe thead th {\n",
       "        text-align: right;\n",
       "    }\n",
       "</style>\n",
       "<table border=\"1\" class=\"dataframe\">\n",
       "  <thead>\n",
       "    <tr style=\"text-align: right;\">\n",
       "      <th></th>\n",
       "      <th>commune_node</th>\n",
       "      <th>commune</th>\n",
       "      <th>distance</th>\n",
       "    </tr>\n",
       "  </thead>\n",
       "  <tbody>\n",
       "    <tr>\n",
       "      <th>6763946</th>\n",
       "      <td>1779713597</td>\n",
       "      <td>2A163</td>\n",
       "      <td>0.0</td>\n",
       "    </tr>\n",
       "    <tr>\n",
       "      <th>1530168</th>\n",
       "      <td>300445272</td>\n",
       "      <td>2A247</td>\n",
       "      <td>0.0</td>\n",
       "    </tr>\n",
       "    <tr>\n",
       "      <th>1530169</th>\n",
       "      <td>300445275</td>\n",
       "      <td>2A247</td>\n",
       "      <td>0.0</td>\n",
       "    </tr>\n",
       "    <tr>\n",
       "      <th>1530170</th>\n",
       "      <td>300445298</td>\n",
       "      <td>2A247</td>\n",
       "      <td>0.0</td>\n",
       "    </tr>\n",
       "    <tr>\n",
       "      <th>1530171</th>\n",
       "      <td>300445313</td>\n",
       "      <td>2A247</td>\n",
       "      <td>0.0</td>\n",
       "    </tr>\n",
       "  </tbody>\n",
       "</table>\n",
       "</div>"
      ],
      "text/plain": [
       "        commune_node commune  distance\n",
       "6763946   1779713597   2A163       0.0\n",
       "1530168    300445272   2A247       0.0\n",
       "1530169    300445275   2A247       0.0\n",
       "1530170    300445298   2A247       0.0\n",
       "1530171    300445313   2A247       0.0"
      ]
     },
     "execution_count": 20,
     "metadata": {},
     "output_type": "execute_result"
    }
   ],
   "source": [
    "commune_node_distances = []\n",
    "        \n",
    "for commune_id, commune_geometry in tqdm(communetuples):\n",
    "    for node_id, node_geometry in nodetuples:\n",
    "        distance = node_geometry.distance(commune_geometry)\n",
    "        commune_node_distances.append((node_id, commune_id, distance))\n",
    "        \n",
    "commune_node_distance_dataframe = pd.DataFrame(\n",
    "    commune_node_distances, \n",
    "    columns = ['commune_node', 'commune', 'distance']\n",
    ")\n",
    "\n",
    "commune_node_distance_dataframe.sort_values(by='distance', inplace=True)\n",
    "\n",
    "commune_node_distance_dataframe.head() # quand le nœud est dans la commune, la distance est nulle"
   ]
  },
  {
   "cell_type": "code",
   "execution_count": 51,
   "metadata": {},
   "outputs": [
    {
     "data": {
      "text/plain": [
       "906880"
      ]
     },
     "execution_count": 51,
     "metadata": {},
     "output_type": "execute_result"
    }
   ],
   "source": [
    "# la table est assez large, on va la stocker au format hdf, plus rapide et leger que CSV\n",
    "len(commune_node_distance_dataframe_short)"
   ]
  },
  {
   "cell_type": "code",
   "execution_count": 52,
   "metadata": {},
   "outputs": [],
   "source": [
    "commune_node_distance_dataframe.to_hdf(data_folder + 'distance_to_node.hdf', 'communes', mode='w')\n",
    "stop_node_distance_dataframe.to_hdf(data_folder + 'distance_to_node.hdf', 'stops', mode='a')"
   ]
  },
  {
   "cell_type": "code",
   "execution_count": 53,
   "metadata": {
    "scrolled": true
   },
   "outputs": [
    {
     "name": "stdout",
     "output_type": "stream",
     "text": [
      "Help on method to_hdf in module pandas.core.generic:\n",
      "\n",
      "to_hdf(path_or_buf, key, **kwargs) method of pandas.core.frame.DataFrame instance\n",
      "    Write the contained data to an HDF5 file using HDFStore.\n",
      "    \n",
      "    Hierarchical Data Format (HDF) is self-describing, allowing an\n",
      "    application to interpret the structure and contents of a file with\n",
      "    no outside information. One HDF file can hold a mix of related objects\n",
      "    which can be accessed as a group or as individual objects.\n",
      "    \n",
      "    In order to add another DataFrame or Series to an existing HDF file\n",
      "    please use append mode and a different a key.\n",
      "    \n",
      "    For more information see the :ref:`user guide <io.hdf5>`.\n",
      "    \n",
      "    Parameters\n",
      "    ----------\n",
      "    path_or_buf : str or pandas.HDFStore\n",
      "        File path or HDFStore object.\n",
      "    key : str\n",
      "        Identifier for the group in the store.\n",
      "    mode : {'a', 'w', 'r+'}, default 'a'\n",
      "        Mode to open file:\n",
      "    \n",
      "        - 'w': write, a new file is created (an existing file with\n",
      "          the same name would be deleted).\n",
      "        - 'a': append, an existing file is opened for reading and\n",
      "          writing, and if the file does not exist it is created.\n",
      "        - 'r+': similar to 'a', but the file must already exist.\n",
      "    format : {'fixed', 'table'}, default 'fixed'\n",
      "        Possible values:\n",
      "    \n",
      "        - 'fixed': Fixed format. Fast writing/reading. Not-appendable,\n",
      "          nor searchable.\n",
      "        - 'table': Table format. Write as a PyTables Table structure\n",
      "          which may perform worse but allow more flexible operations\n",
      "          like searching / selecting subsets of the data.\n",
      "    append : bool, default False\n",
      "        For Table formats, append the input data to the existing.\n",
      "    data_columns :  list of columns or True, optional\n",
      "        List of columns to create as indexed data columns for on-disk\n",
      "        queries, or True to use all columns. By default only the axes\n",
      "        of the object are indexed. See :ref:`io.hdf5-query-data-columns`.\n",
      "        Applicable only to format='table'.\n",
      "    complevel : {0-9}, optional\n",
      "        Specifies a compression level for data.\n",
      "        A value of 0 disables compression.\n",
      "    complib : {'zlib', 'lzo', 'bzip2', 'blosc'}, default 'zlib'\n",
      "        Specifies the compression library to be used.\n",
      "        As of v0.20.2 these additional compressors for Blosc are supported\n",
      "        (default if no compressor specified: 'blosc:blosclz'):\n",
      "        {'blosc:blosclz', 'blosc:lz4', 'blosc:lz4hc', 'blosc:snappy',\n",
      "        'blosc:zlib', 'blosc:zstd'}.\n",
      "        Specifying a compression library which is not available issues\n",
      "        a ValueError.\n",
      "    fletcher32 : bool, default False\n",
      "        If applying compression use the fletcher32 checksum.\n",
      "    dropna : bool, default False\n",
      "        If true, ALL nan rows will not be written to store.\n",
      "    errors : str, default 'strict'\n",
      "        Specifies how encoding and decoding errors are to be handled.\n",
      "        See the errors argument for :func:`open` for a full list\n",
      "        of options.\n",
      "    \n",
      "    See Also\n",
      "    --------\n",
      "    DataFrame.read_hdf : Read from HDF file.\n",
      "    DataFrame.to_parquet : Write a DataFrame to the binary parquet format.\n",
      "    DataFrame.to_sql : Write to a sql table.\n",
      "    DataFrame.to_feather : Write out feather-format for DataFrames.\n",
      "    DataFrame.to_csv : Write out to a csv file.\n",
      "    \n",
      "    Examples\n",
      "    --------\n",
      "    >>> df = pd.DataFrame({'A': [1, 2, 3], 'B': [4, 5, 6]},\n",
      "    ...                   index=['a', 'b', 'c'])\n",
      "    >>> df.to_hdf('data.h5', key='df', mode='w')\n",
      "    \n",
      "    We can add another object to the same file:\n",
      "    \n",
      "    >>> s = pd.Series([1, 2, 3, 4])\n",
      "    >>> s.to_hdf('data.h5', key='s')\n",
      "    \n",
      "    Reading from HDF file:\n",
      "    \n",
      "    >>> pd.read_hdf('data.h5', 'df')\n",
      "    A  B\n",
      "    a  1  4\n",
      "    b  2  5\n",
      "    c  3  6\n",
      "    >>> pd.read_hdf('data.h5', 's')\n",
      "    0    1\n",
      "    1    2\n",
      "    2    3\n",
      "    3    4\n",
      "    dtype: int64\n",
      "    \n",
      "    Deleting file with data:\n",
      "    \n",
      "    >>> import os\n",
      "    >>> os.remove('data.h5')\n",
      "\n"
     ]
    }
   ],
   "source": [
    "help(stop_node_distance_dataframe.to_hdf)"
   ]
  },
  {
   "cell_type": "code",
   "execution_count": null,
   "metadata": {
    "collapsed": true
   },
   "outputs": [],
   "source": []
  }
 ],
 "metadata": {
  "kernelspec": {
   "display_name": "Python 3",
   "language": "python",
   "name": "python3"
  },
  "language_info": {
   "codemirror_mode": {
    "name": "ipython",
    "version": 3
   },
   "file_extension": ".py",
   "mimetype": "text/x-python",
   "name": "python",
   "nbconvert_exporter": "python",
   "pygments_lexer": "ipython3",
   "version": "3.6.8"
  }
 },
 "nbformat": 4,
 "nbformat_minor": 2
}
